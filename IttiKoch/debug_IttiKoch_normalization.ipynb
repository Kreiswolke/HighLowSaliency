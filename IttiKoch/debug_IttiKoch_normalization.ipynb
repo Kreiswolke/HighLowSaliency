{
 "cells": [
  {
   "cell_type": "code",
   "execution_count": 1,
   "metadata": {
    "collapsed": false
   },
   "outputs": [
    {
     "name": "stderr",
     "output_type": "stream",
     "text": [
      "ERROR:root:Line magic function `%reload` not found.\n"
     ]
    }
   ],
   "source": [
    "%reload\n",
    "import numpy as np\n",
    "import matplotlib.pyplot as plt\n",
    "from IttiKoch import IttiKoch,get_gaussian\n",
    "import scipy.misc\n",
    "face = scipy.misc.face()\n",
    "import tensorflow as tf"
   ]
  },
  {
   "cell_type": "code",
   "execution_count": 2,
   "metadata": {
    "collapsed": false
   },
   "outputs": [],
   "source": [
    "import scipy.misc\n",
    "face = scipy.misc.face()\n",
    "\n",
    "image = scipy.misc.imread('/gpfs01/bethge/home/oeberle/Images_local/pop_out.jpg')\n"
   ]
  },
  {
   "cell_type": "code",
   "execution_count": null,
   "metadata": {
    "collapsed": false,
    "scrolled": false
   },
   "outputs": [],
   "source": [
    "A = IttiKoch()\n",
    "net = A.build()"
   ]
  },
  {
   "cell_type": "code",
   "execution_count": null,
   "metadata": {
    "collapsed": false,
    "scrolled": false
   },
   "outputs": [],
   "source": [
    "image = scipy.misc.imresize(image/255.-0.5, (480,640,3))\n",
    "with tf.Session() as sess:\n",
    "    feed_dict = {A._input:image[np.newaxis,:,:,:]}\n",
    "    pyr = sess.run(A.net_tmp,feed_dict)\n",
    "    #result = sess.run({k:v for k,v in net.items() if type(k)==int},feed_dict)\n",
    "    conspicuity = sess.run(net['readout_features'],feed_dict)\n",
    "    features = sess.run(net['features'],feed_dict)\n",
    "    #filters = ses's.run(net['filters'])\n",
    "    pre_features = sess.run(net['pre_features'],feed_dict)\n",
    "    #features_#norm = sess.run( net['features_normalized'],feed_dict)\n",
    "    #orients = sess.run(net[1]['orientation'],feed_dict)"
   ]
  },
  {
   "cell_type": "code",
   "execution_count": null,
   "metadata": {
    "collapsed": false,
    "scrolled": false
   },
   "outputs": [],
   "source": [
    "plt.imshow(image)\n",
    "plt.show()\n",
    "for k,v in pre_features.items():\n",
    "    for kk,vv in v.items():\n",
    "        try:\n",
    "            if kk == 'input':\n",
    "                a = vv.squeeze()[:,:,0]\n",
    "                b = vv.squeeze()[:,:,1]\n",
    "                c = vv.squeeze()[:,:,2]\n",
    "\n",
    "                plt.imshow(vv.squeeze()/np.max(vv.squeeze()))\n",
    "                plt.colorbar()\n",
    "                plt.title(kk)\n",
    "                plt.show()\n",
    "            else:\n",
    "                plt.imshow(vv.squeeze())\n",
    "                plt.colorbar()\n",
    "                plt.title(kk)\n",
    "                plt.show()\n",
    "        except AttributeError: \n",
    "            for kkk,vvv in vv.items():\n",
    "\n",
    "                try:\n",
    "                    plt.imshow(vvv.squeeze())\n",
    "                    plt.colorbar()\n",
    "                    plt.title(kkk)\n",
    "                    plt.show()\n",
    "\n",
    "                except AttributeError: \n",
    "                    for kkkk,vvvv in vvv.items():             \n",
    "                        plt.imshow(vvvv.squeeze())\n",
    "                        \n",
    "                        plt.title(kkkk)\n",
    "                        plt.show()\n",
    " \n",
    "                          \n",
    "                                                \n",
    "                                            \n"
   ]
  },
  {
   "cell_type": "code",
   "execution_count": null,
   "metadata": {
    "collapsed": false,
    "scrolled": false
   },
   "outputs": [],
   "source": [
    "for a,b, in conspicuity.items():\n",
    "    for k,v in b.items():\n",
    "        print(k)\n",
    "        if type(k) == str:\n",
    "            try:\n",
    "                plt.matshow(v.squeeze())\n",
    "                print(v.squeeze().shape)\n",
    "                plt.title(k)\n",
    "                plt.colorbar()\n",
    "                plt.axis('off')\n",
    "                plt.show()\n",
    "            except AttributeError:\n",
    "                for kk,vv in v.items():\n",
    "                    plt.matshow(vv.squeeze())\n",
    "                    print(v.squeeze().shape)\n",
    "                    plt.title(kk)\n",
    "                    plt.colorbar()\n",
    "                    plt.axis('off')\n",
    "                    plt.show()\n",
    "        else:\n",
    "            plt.matshow(v.squeeze())\n",
    "            print(v.squeeze().shape)\n",
    "            plt.title(k)\n",
    "            plt.colorbar()\n",
    "            plt.axis('off')\n",
    "            plt.show()"
   ]
  },
  {
   "cell_type": "code",
   "execution_count": 27,
   "metadata": {
    "collapsed": false
   },
   "outputs": [],
   "source": [
    " def map_normalization_tf(src):\n",
    "        # Global maximum\n",
    "        \n",
    "        M = tf.reduce_max(src)\n",
    "       \n",
    "        # Normalize to [0,1] range\n",
    "        Min = tf.reduce_min(src)\n",
    "        #src = (src-Min)/(M-Min)\n",
    "         \n",
    "        #(x, mean, variance, offset, scale, variance_epsilon, name=None)\n",
    "        variance = (M-Min)**2\n",
    "        src = tf.nn.batch_normalization(src, Min, variance, offset = None, scale= None ,variance_epsilon=tf.constant(1e-6,tf.float32))\n",
    "\n",
    "        # Finding other local maxima\n",
    "        \n",
    "        stepsize = 10\n",
    "        # find local maxima\n",
    "  \n",
    "        patches = tf.extract_image_patches(src, ksizes = [1,stepsize,stepsize,1], strides= [1,stepsize,stepsize,1],rates=[1,1,1,1] ,padding = 'SAME')\n",
    "        \n",
    "        lmins = tf.reduce_min(patches,reduction_indices=3, keep_dims=True) \n",
    "        lmaxs  = tf.reduce_max(patches,reduction_indices=3, keep_dims=True)\n",
    "        \n",
    "        \n",
    "        m_mean = tf.reduce_mean(lmaxs)\n",
    "        numlocal = tf.reshape(lmaxs,[-1])\n",
    "        \n",
    "        factor = (1.-m_mean)**2\n",
    "        result = factor*src\n",
    "        return result,src, M, Min, factor, m_mean,numlocal"
   ]
  },
  {
   "cell_type": "code",
   "execution_count": 23,
   "metadata": {
    "collapsed": false
   },
   "outputs": [],
   "source": [
    "def map_normalization(src):\n",
    "    M = tf.reduce_max(src)\n",
    "\n",
    "    # Normalize to [0,1] range\n",
    "    Min = tf.reduce_min(src)\n",
    "    #src = (src-Min)/(M-Min)\n",
    "\n",
    "    #(x, mean, variance, offset, scale, variance_epsilon, name=None)\n",
    "    variance = (M-Min)**2\n",
    "    src = tf.nn.batch_normalization(src, Min, variance, offset = None, scale= None ,variance_epsilon=tf.constant(1e-6,tf.float32))\n",
    "    # Resize (maybe somewhere else? )\n",
    "    #src= tf.image.resize_images(src, [30,40])\n",
    "    # Finding other local maxima\n",
    "\n",
    "    stepsize = 10\n",
    "    shape = src.get_shape().as_list()\n",
    "    #shape = tf.shape(src)\n",
    "    print('SHAPE', shape)\n",
    "    width = shape[2]\n",
    "    height = shape[1]\n",
    "    # find local maxima\n",
    "    numlocal = tf.cast(0.,tf.float32)\n",
    "    lmaxmean = tf.cast(0.,tf.float32)\n",
    "\n",
    "    for y in range(0, height-stepsize, stepsize):\n",
    "        for x in range(0, width-stepsize, stepsize):\n",
    "            localimg = src[:,y:y+stepsize, x:x+stepsize,:]\n",
    "            lmin, lmax = tf.reduce_min(localimg), tf.reduce_max(localimg)\n",
    "\n",
    "            #lmin, lmax, dummy1, dummy2 = cv2.minMaxLoc(localimg)\n",
    "            lmaxmean = lmaxmean + lmax\n",
    "            numlocal =  numlocal + tf.cast(1.,tf.float32)\n",
    "    # averaging over all the local regions (substract global max\n",
    "\n",
    "\n",
    "    m_mean = lmaxmean/numlocal\n",
    "\n",
    "    factor = (1.-m_mean)**2\n",
    "    result = factor*src\n",
    "    return result,src, M, Min, factor, m_mean,lmaxmean,numlocal"
   ]
  },
  {
   "cell_type": "code",
   "execution_count": 28,
   "metadata": {
    "collapsed": true
   },
   "outputs": [],
   "source": [
    "input = tf.placeholder(tf.float32, shape = (1,480, 640,1))"
   ]
  },
  {
   "cell_type": "code",
   "execution_count": 29,
   "metadata": {
    "collapsed": false
   },
   "outputs": [],
   "source": [
    "#map1 = map_normalization(input)\n",
    "map2 = map_normalization_tf(input)"
   ]
  },
  {
   "cell_type": "code",
   "execution_count": 30,
   "metadata": {
    "collapsed": false
   },
   "outputs": [],
   "source": [
    "image = np.asarray(image)\n",
    "image = scipy.misc.imresize(image/255.-0.5, (480,640,3))\n",
    "\n",
    "with tf.Session() as sess:\n",
    "    #K,src,M, Min, factor, m_mean,lmaxmean,numlocal = sess.run(map1, {input:image[np.newaxis,:,:,1][:,:,:,np.newaxis]})\n",
    "    K2,src2,M2, Min2, factor2, m_mean2,numlocal2 = sess.run(map2, {input:image[np.newaxis,:,:,1][:,:,:,np.newaxis]})"
   ]
  },
  {
   "cell_type": "code",
   "execution_count": 31,
   "metadata": {
    "collapsed": false
   },
   "outputs": [
    {
     "data": {
      "text/plain": [
       "0.99970227"
      ]
     },
     "execution_count": 31,
     "metadata": {},
     "output_type": "execute_result"
    }
   ],
   "source": [
    "m_mean"
   ]
  },
  {
   "cell_type": "code",
   "execution_count": 32,
   "metadata": {
    "collapsed": false
   },
   "outputs": [
    {
     "data": {
      "text/plain": [
       "0.99971265"
      ]
     },
     "execution_count": 32,
     "metadata": {},
     "output_type": "execute_result"
    }
   ],
   "source": [
    "m_mean2"
   ]
  },
  {
   "cell_type": "code",
   "execution_count": null,
   "metadata": {
    "collapsed": false
   },
   "outputs": [],
   "source": [
    "plt.imshow(K.squeeze())\n",
    "plt.colorbar()\n",
    "plt.show()\n",
    "\n",
    "plt.imshow(src.squeeze())\n",
    "plt.colorbar()\n",
    "plt.show()"
   ]
  },
  {
   "cell_type": "code",
   "execution_count": null,
   "metadata": {
    "collapsed": false
   },
   "outputs": [],
   "source": [
    "print(Min, factor, m_mean)"
   ]
  },
  {
   "cell_type": "code",
   "execution_count": null,
   "metadata": {
    "collapsed": false
   },
   "outputs": [],
   "source": [
    "net['filters']"
   ]
  },
  {
   "cell_type": "code",
   "execution_count": null,
   "metadata": {
    "collapsed": false
   },
   "outputs": [],
   "source": [
    "image\n"
   ]
  },
  {
   "cell_type": "code",
   "execution_count": null,
   "metadata": {
    "collapsed": false
   },
   "outputs": [],
   "source": [
    "pre_features['orientation_pyr'][0]"
   ]
  },
  {
   "cell_type": "code",
   "execution_count": null,
   "metadata": {
    "collapsed": false
   },
   "outputs": [],
   "source": [
    "\n",
    "for k,v in A.gabor_dict.items():\n",
    "    plt.imshow(v)\n",
    "    plt.colorbar()\n",
    "    plt.show()"
   ]
  },
  {
   "cell_type": "code",
   "execution_count": null,
   "metadata": {
    "collapsed": true
   },
   "outputs": [],
   "source": [
    "from IttiKoch import get_gabor"
   ]
  },
  {
   "cell_type": "code",
   "execution_count": null,
   "metadata": {
    "collapsed": false
   },
   "outputs": [],
   "source": [
    "kk = get_gabor(135, phase = 0., filtersize = 9, filterperiod = np.pi, elongation = 1.5, major_stddev = 1.)\n",
    "plt.imshow(kk)\n",
    "plt.show()"
   ]
  },
  {
   "cell_type": "code",
   "execution_count": null,
   "metadata": {
    "collapsed": true
   },
   "outputs": [],
   "source": [
    "GaborKernel_135 = [\\\n",
    "    [ -1.01551E-06, -9.04408E-06,  0.000132863,  0.000744712,  3.79931E-05, -0.001028923, -0.000279806, 2.2532E-05, 4.0418E-06 ],\\\n",
    "    [ -9.04408E-06,  0.000288732,  0.003516954,  0.000389916, -0.022947700, -0.013561362, 0.002373205, 0.00092512, 2.2532E-05 ],\\\n",
    "    [  0.000132863,  0.003516954,  0.000847346, -0.108372072, -0.139178011, 0.052928748, 0.044837725, 0.002373205, -0.000279806 ],\\\n",
    "    [  0.000744712,  0.000389916, -0.108372072, -0.302454279,  0.249959607, 0.46016215, 0.052928748, -0.013561362, -0.001028923 ],\\\n",
    "    [  3.79931E-05, -0.022947700, -0.139178011,  0.249959607,  1.000000000, 0.249959607, -0.139178011, -0.0229477, 3.79931E-05 ],\\\n",
    "    [ -0.001028923, -0.013561362,  0.052928748,  0.460162150,  0.249959607, -0.302454279, -0.108372072, 0.000389916, 0.000744712 ],\\\n",
    "    [ -0.000279806,  0.002373205,  0.044837725,  0.052928748, -0.139178011, -0.108372072, 0.000847346, 0.003516954, 0.000132863 ],\\\n",
    "    [  2.25320E-05,  0.000925120,  0.002373205, -0.013561362, -0.022947700, 0.000389916, 0.003516954, 0.000288732, -9.04408E-06 ],\\\n",
    "    [  4.04180E-06,  2.25320E-05, -0.000279806, -0.001028923,  3.79931E-05 , 0.000744712, 0.000132863, -9.04408E-06, -1.01551E-06 ]\\\n",
    "]"
   ]
  },
  {
   "cell_type": "code",
   "execution_count": null,
   "metadata": {
    "collapsed": false
   },
   "outputs": [],
   "source": [
    "plt.imshow(GaborKernel_135)\n",
    "plt.show()"
   ]
  },
  {
   "cell_type": "code",
   "execution_count": null,
   "metadata": {
    "collapsed": false
   },
   "outputs": [],
   "source": [
    "GaborKernel_135 - kk"
   ]
  },
  {
   "cell_type": "code",
   "execution_count": null,
   "metadata": {
    "collapsed": false
   },
   "outputs": [],
   "source": [
    "print(np.min(kk), np.max(kk))"
   ]
  },
  {
   "cell_type": "code",
   "execution_count": null,
   "metadata": {
    "collapsed": false
   },
   "outputs": [],
   "source": [
    "print(np.min(GaborKernel_135), np.max(GaborKernel_135))"
   ]
  },
  {
   "cell_type": "code",
   "execution_count": null,
   "metadata": {
    "collapsed": true
   },
   "outputs": [],
   "source": [
    "from VGGFeatures import replication_padding\n"
   ]
  },
  {
   "cell_type": "code",
   "execution_count": null,
   "metadata": {
    "collapsed": false
   },
   "outputs": [],
   "source": [
    "_input= tf.placeholder(tf.float32, shape = (1,None,None,1))\n",
    "replicate = replication_padding(_input, axis=2, size=int(15/2))\n"
   ]
  },
  {
   "cell_type": "code",
   "execution_count": null,
   "metadata": {
    "collapsed": false
   },
   "outputs": [],
   "source": [
    "with tf.Session() as sess:\n",
    "    K = sess.run(replicate, {_input: image[:,:,1][tf.newaxis,:,:,tf.newaxis]})"
   ]
  },
  {
   "cell_type": "code",
   "execution_count": null,
   "metadata": {
    "collapsed": false
   },
   "outputs": [],
   "source": [
    "K.shape"
   ]
  },
  {
   "cell_type": "code",
   "execution_count": null,
   "metadata": {
    "collapsed": false
   },
   "outputs": [],
   "source": [
    "plt.imshow(K.squeeze())\n",
    "plt.show()"
   ]
  },
  {
   "cell_type": "code",
   "execution_count": null,
   "metadata": {
    "collapsed": false
   },
   "outputs": [],
   "source": [
    "plt.imshow(image)\n",
    "plt.show()"
   ]
  },
  {
   "cell_type": "code",
   "execution_count": null,
   "metadata": {
    "collapsed": false
   },
   "outputs": [],
   "source": [
    "image.shape"
   ]
  },
  {
   "cell_type": "code",
   "execution_count": null,
   "metadata": {
    "collapsed": false
   },
   "outputs": [],
   "source": [
    "A.net['pre_features']['orientation_pyr']"
   ]
  },
  {
   "cell_type": "code",
   "execution_count": null,
   "metadata": {
    "collapsed": false
   },
   "outputs": [],
   "source": [
    "height = tf.placeholder(tf.int32)\n",
    "A = tf.cast(image[tf.newaxis,:,:,0][:,:,:,tf.newaxis], tf.float32)\n",
    "#K = [tf.split(1,10,k) for k in tf.split(0,10,A)]\n",
    "K = tf.extract_image_patches(A, ksizes = [1,10,10,1], strides= [1,10,10,1],rates=[1,1,1,1] ,padding = 'SAME')\n",
    "\n",
    "mins = tf.reduce_min(K,reduction_indices=3, keep_dims=False)"
   ]
  },
  {
   "cell_type": "code",
   "execution_count": null,
   "metadata": {
    "collapsed": false,
    "scrolled": true
   },
   "outputs": [],
   "source": [
    "with tf.Session() as sess:\n",
    "    l =  K.eval()\n",
    "    m = mins.eval()\n",
    "    print(tf.shape(tf.reshape(mins,[-1])).eval())"
   ]
  },
  {
   "cell_type": "code",
   "execution_count": null,
   "metadata": {
    "collapsed": false
   },
   "outputs": [],
   "source": [
    "tf.shape(tf.reshape(mins,[-1]))"
   ]
  },
  {
   "cell_type": "code",
   "execution_count": null,
   "metadata": {
    "collapsed": false
   },
   "outputs": [],
   "source": [
    "m.squeeze()"
   ]
  },
  {
   "cell_type": "code",
   "execution_count": null,
   "metadata": {
    "collapsed": false
   },
   "outputs": [],
   "source": [
    "plt.imshow(m.squeeze())\n",
    "plt.show()"
   ]
  },
  {
   "cell_type": "code",
   "execution_count": null,
   "metadata": {
    "collapsed": true
   },
   "outputs": [],
   "source": [
    "tf.reduce_min?"
   ]
  },
  {
   "cell_type": "code",
   "execution_count": null,
   "metadata": {
    "collapsed": false
   },
   "outputs": [],
   "source": []
  },
  {
   "cell_type": "code",
   "execution_count": null,
   "metadata": {
    "collapsed": true
   },
   "outputs": [],
   "source": []
  }
 ],
 "metadata": {
  "kernelspec": {
   "display_name": "Python 3",
   "language": "python",
   "name": "python3"
  },
  "language_info": {
   "codemirror_mode": {
    "name": "ipython",
    "version": 3
   },
   "file_extension": ".py",
   "mimetype": "text/x-python",
   "name": "python",
   "nbconvert_exporter": "python",
   "pygments_lexer": "ipython3",
   "version": "3.4.3"
  }
 },
 "nbformat": 4,
 "nbformat_minor": 1
}
