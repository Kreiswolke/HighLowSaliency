{
 "cells": [
  {
   "cell_type": "code",
   "execution_count": 1,
   "metadata": {
    "collapsed": false
   },
   "outputs": [
    {
     "name": "stderr",
     "output_type": "stream",
     "text": [
      "/usr/local/lib/python2.7/dist-packages/matplotlib/cbook.py:128: MatplotlibDeprecationWarning: The finance module has been deprecated in mpl 2.0 and will be removed in mpl 2.2. Please use the matplotlib toolkit finance instead.\n",
      "  warnings.warn(message, mplDeprecation, stacklevel=1)\n"
     ]
    }
   ],
   "source": [
    "import cPickle as pickle\n",
    "import numpy as np\n",
    "import matplotlib.pyplot as plt\n",
    "%matplotlib inline\n",
    "import glob\n",
    "location = '/gpfs01/bethge/home/oeberle/Scripts/deepgaze/'"
   ]
  },
  {
   "cell_type": "code",
   "execution_count": 5,
   "metadata": {
    "collapsed": false
   },
   "outputs": [
    {
     "name": "stdout",
     "output_type": "stream",
     "text": [
      "/gpfs01/bethge/home/oeberle/Scripts/deepgaze\n"
     ]
    }
   ],
   "source": [
    "cd .."
   ]
  },
  {
   "cell_type": "code",
   "execution_count": 2,
   "metadata": {
    "collapsed": false
   },
   "outputs": [],
   "source": [
    "def get_image_from_filename(scene_category, filename, root_dir):\n",
    "    '''\n",
    "    Use np.asarray(jpgfile) to get rgb data \n",
    "    '''\n",
    "    import Image\n",
    "\n",
    "\n",
    "    img_dir =  root_dir + '/Targets/' + scene_category + '/' + filename\n",
    "    try:\n",
    "        jpgfile = Image.open(img_dir)\n",
    "        typ = 'target'\n",
    "    except IOError:\n",
    "        img_dir =  root_dir + '/Fillers/' + scene_category + '/' + filename\n",
    "        try:\n",
    "            jpgfile = Image.open(img_dir)\n",
    "            typ = 'filler'\n",
    "        except IOError:\n",
    "            typ ='missing'\n",
    "            jpgfile = None\n",
    "            \n",
    "    return typ, jpgfile, np.asarray(jpgfile)\n"
   ]
  },
  {
   "cell_type": "code",
   "execution_count": null,
   "metadata": {
    "collapsed": true
   },
   "outputs": [],
   "source": []
  },
  {
   "cell_type": "code",
   "execution_count": null,
   "metadata": {
    "collapsed": false,
    "scrolled": true
   },
   "outputs": [],
   "source": [
    "root_dir = location + 'FIGRIM/Stimuli/'\n",
    "for f in sorted(glob.glob(res_dir + \"*.p\")):\n",
    "    res = pickle.load(open(f, 'r'))\n",
    "\n",
    "    if res['type'] == 'target':\n",
    "        print( res['type'], res['HR'], res['scene category'], res['filename'], res['TS'])\n",
    "        plt.imshow(get_image_from_filename(res['scene category'], res['filename'], root_dir)[2])\n",
    "        plt.show()\n",
    "    else:\n",
    "        pass"
   ]
  },
  {
   "cell_type": "code",
   "execution_count": 2,
   "metadata": {
    "collapsed": false
   },
   "outputs": [
    {
     "name": "stdout",
     "output_type": "stream",
     "text": [
      "/gpfs01/bethge/home/oeberle/Scripts/deepgaze\n"
     ]
    }
   ],
   "source": [
    "cd .."
   ]
  },
  {
   "cell_type": "code",
   "execution_count": 6,
   "metadata": {
    "collapsed": false
   },
   "outputs": [
    {
     "name": "stderr",
     "output_type": "stream",
     "text": [
      "/usr/local/lib/python2.7/dist-packages/optpy/ipopt_wrapper.py:15: UserWarning: Could not import ipopt. Probably cyipopt is not installed\n",
      "  warnings.warn('Could not import ipopt. Probably cyipopt is not installed')\n"
     ]
    }
   ],
   "source": [
    "\n",
    "from __future__ import print_function, division, unicode_literals\n",
    "#import TotalSaliency as TS\n",
    "import numpy as np\n",
    "import itertools\n",
    "import scipy\n",
    "import matplotlib.pyplot as plt\n",
    "import zipfile\n",
    "%matplotlib inline\n",
    "from boltons.fileutils import mkdir_p\n",
    "from tqdm import tqdm\n",
    "import shutil\n",
    "import warnings\n",
    "import glob\n",
    "import itertools\n",
    "import pysaliency\n",
    "from pysaliency import get_FIGRIM\n",
    "from baseline_models import BaselineModel, ShapeIndependentBaselineModel\n",
    "import cPickle as pickle\n",
    "import theano"
   ]
  },
  {
   "cell_type": "code",
   "execution_count": 7,
   "metadata": {
    "collapsed": false
   },
   "outputs": [],
   "source": [
    "import yaml\n",
    "import os\n",
    "import dill\n",
    "\n",
    "from train_deep_gaze import get_dataset, load_experiment, load_parameters\n",
    "from scipy.ndimage import zoom\n",
    "from boltons.cacheutils import LRU\n",
    "\n",
    "class DeepGazeModel(pysaliency.Model):\n",
    "    \"\"\"\n",
    "    Create and provide a set of DeepSal objects for different image sizes.\n",
    "    \"\"\"\n",
    "    def __init__(self, directory, crossval_id = 0, centerbias_model=None, network_cache=None, **kwargs):\n",
    "        super(DeepGazeModel, self).__init__(**kwargs)\n",
    "        self.directory = directory\n",
    "        self.crossval_id = crossval_id\n",
    "        if network_cache is None:\n",
    "            self.networks = LRU(max_size=2)\n",
    "        else:\n",
    "            print(\"Reusing network cache\")\n",
    "            self.networks = network_cache\n",
    "        self.centerbias_model = centerbias_model\n",
    "        self.params = load_parameters(self.directory, crossval_id = self.crossval_id)\n",
    "\n",
    "    def load_network(self, size):\n",
    "        new_network = load_experiment(self.directory, size, crossval_id = self.crossval_id)\n",
    "        new_network.prepared_output_cache.size = 4\n",
    "        self.networks[size] = new_network\n",
    "\n",
    "        return self.networks[size]\n",
    "\n",
    "    def prepare_centerbias(self, stimulus):\n",
    "        \n",
    "        size = (stimulus.shape[0], stimulus.shape[1])\n",
    "        network = self.get_network(size)\n",
    "        \n",
    "        centerbias = self.centerbias_model.log_density(stimulus)\n",
    "\n",
    "        y_size = network.salmap_shape[0]\n",
    "        x_size = network.salmap_shape[1]\n",
    "\n",
    "        image_area = (x_size*y_size)/(size[0]*size[1])\n",
    "\n",
    "        factor_x = x_size/centerbias.shape[1]\n",
    "        factor_y = y_size/centerbias.shape[0]\n",
    "        #print('shapes', size, centerbias.shape)\n",
    "        #print('factors', factor_x, factor_y)\n",
    "\n",
    "        centerbias = zoom(centerbias, [factor_y, factor_x], order=1, mode='nearest')\n",
    "        centerbias_density = np.exp(centerbias)\n",
    "        centerbias -= (np.log(centerbias_density.sum()) - np.log(image_area))\n",
    "        #print \"This centre bias:\", np.exp(centerbias).sum()\n",
    "        np.testing.assert_allclose(np.exp(centerbias).sum(), image_area)\n",
    "\n",
    "        return centerbias\n",
    "\n",
    "    def get_network(self, shape):\n",
    "        if shape not in self.networks:\n",
    "            self.load_network(shape)\n",
    "        network = self.networks[shape]\n",
    "        for p, v in zip(network.params, self.params):\n",
    "            p.set_value(v)\n",
    "\n",
    "        return network\n",
    "\n",
    "    def _log_density(self, stimulus):\n",
    "        \"\"\"Generate saliencymap for given image using given centerbias\n",
    "        centerbias_template == None falls back to default centerbias template\n",
    "        \"\"\"\n",
    "        shape = (stimulus.shape[0], stimulus.shape[1])\n",
    "        network = self.get_network(shape)\n",
    "        centerbias = self.prepare_centerbias(stimulus)\n",
    "        #print(centerbias.shape)\n",
    "        \n",
    "        network_input = network.prepare_network_input(self.ensure_color(stimulus).copy())\n",
    "        \n",
    "        saliency_map = network.generate_log_densities(network_input.astype(theano.config.floatX),\n",
    "                                                      centerbias.astype(theano.config.floatX))\n",
    "        if saliency_map.shape != shape:\n",
    "            print(\"WARNING! WRONG SHAPE!!! {} != {}. Resizing\".format(saliency_map.shape, shape))\n",
    "            saliency_map = zoom(saliency_map, [shape[0]/saliency_map.shape[0], shape[1]/saliency_map.shape[1]])\n",
    "            \n",
    "            saliency_map -= np.log(np.sum(np.exp(saliency_map)))\n",
    "            \n",
    "            assert saliency_map.shape == shape\n",
    "        return saliency_map\n",
    "\n",
    "    def ensure_color(self, image):\n",
    "        if image.ndim == 2:\n",
    "            return np.dstack((image, image, image))\n",
    "        return image\n",
    "\n",
    "    \n",
    "def load_val_deepgaze_model(directory, centerbias_model=None, network_cache=None, **kwargs):\n",
    "    config = yaml.load(open(os.path.join(directory, 'config.yaml')))\n",
    "    baseline_path = config['centerbias'].get('disk_cache', '.')\n",
    "    crossval_id = 0\n",
    "    #val_baseline_name = os.path.join(directory, baseline_path, 'baseline_val_{}.pydat'.format(crossval_id))\n",
    "    #val_baseline = dill.load(open(val_baseline_name))\n",
    "    #val_baseline = dill.load(open('deepgaze2_2/experiments/cache/MIT1003_twosize-10-0-rand/'))\n",
    "    \n",
    "    return DeepGazeModel(directory, centerbias_model=centerbias_model, network_cache=network_cache, **kwargs)\n",
    "\n",
    "\n",
    "def glue_images(imga, imgb, offset = 500):\n",
    "    \"\"\"\n",
    "    Combines two color image ndarrays side-by-side.\n",
    "    \"\"\"\n",
    "    ha,wa = imga.shape[:2]\n",
    "    hb,wb = imgb.shape[:2]\n",
    "    max_height = np.max([ha, hb])\n",
    "    #if max_height % 2. != 0:\n",
    "    #    max_height = max_height + 1\n",
    "    offset = np.max([wa,wb])\n",
    "    total_width = wa+wb+offset\n",
    "   \n",
    "    #new_img[:ha,:wa]=imga\n",
    "    #new_img[:hb,wa+offset:wa+wb+offset]=imgb\n",
    "    hdiff = int(np.ceil((ha-hb)/2.))\n",
    "    \n",
    "    #Adding borders\n",
    "    max_height = max_height + 2*np.abs(hdiff)\n",
    "    total_width = total_width + 2*np.abs(hdiff)\n",
    "    new_img = np.zeros(shape=(max_height, total_width, 3), dtype=np.uint8)\n",
    "\n",
    "    #print(hdiff)\n",
    "    if hdiff >= 0: # imgb smaller than imga\n",
    "        new_img[hdiff:ha+hdiff,hdiff:wa+hdiff]=imga\n",
    "        new_img[2*hdiff:hb+2*hdiff,wa+offset+hdiff:wa+wb+offset+hdiff]=imgb\n",
    "    elif hdiff < 0: # imga smaller than imgb\n",
    "        hdiff = np.abs(hdiff)\n",
    "        new_img[2*hdiff:ha+2*hdiff,hdiff:wa+hdiff]=imga\n",
    "        new_img[hdiff:hb+hdiff,wa+offset+hdiff:wa+wb+offset+hdiff]=imgb\n",
    "        \n",
    "    center = wa + hdiff + int(np.ceil(offset/2.))\n",
    "    return new_img, center\n",
    "\n",
    "\n",
    "class TotalSaliency(object):\n",
    "    def __init__(self, img1, img2):\n",
    "        self.img1 = img1\n",
    "        self.img2 = img2\n",
    "    def __call__(self):    \n",
    "        im_glued, center = glue_images(self.img1, self.img2)\n",
    "        log_density = uniform_dg_model.log_density(stimulus=im_glued)\n",
    "        #print(log_density.shape)\n",
    "        d_left, d_right = self.get_total_saliency(log_density, center)\n",
    "        return im_glued,log_density, d_left, d_right\n",
    "    \n",
    "    def get_total_saliency(self, log_density,center):\n",
    "        density = np.exp(log_density)\n",
    "        d_left = np.sum(density[:,:center])\n",
    "        d_right = np.sum(density[:, center:])\n",
    "        return d_left, d_right"
   ]
  },
  {
   "cell_type": "code",
   "execution_count": 13,
   "metadata": {
    "collapsed": false,
    "scrolled": false
   },
   "outputs": [
    {
     "name": "stdout",
     "output_type": "stream",
     "text": [
      "2793 (100.0%)\n",
      "Reusing network cache\n",
      "Reusing network cache\n",
      "Reusing network cache\n",
      "Reusing network cache\n",
      "Reusing network cache\n",
      "Reusing network cache\n",
      "Reusing network cache\n",
      "Reusing network cache\n",
      "Reusing network cache\n",
      "Reusing network cache\n",
      "Reusing network cache\n",
      "Reusing network cache\n",
      "Reusing network cache\n",
      "Reusing network cache\n",
      "Reusing network cache\n",
      "Reusing network cache\n",
      "Reusing network cache\n",
      "Reusing network cache\n",
      "Reusing network cache\n"
     ]
    }
   ],
   "source": [
    "figrim_stimuli, figrim_fixations= get_FIGRIM(location=location)\n",
    "\n",
    "base_directory = 'TrainedModels/experiment0010_SALICONMIT2_MIT2_rand'\n",
    "#target_directory = 'model_caches/deep_gaze_2/experiment0010_SALICONMIT2_MIT2_rand/'\n",
    "config = yaml.load(open(os.path.join(base_directory, 'crossval_10-0', 'config.yaml')))\n",
    "\n",
    "\n",
    "baseline = ShapeIndependentBaselineModel([figrim_stimuli], [figrim_fixations], config['centerbias']['bandwith'], regularization=config['centerbias']['regularization'])\n",
    "\n",
    "cb_dg_models = []\n",
    "uniform_dg_models = []\n",
    "for crossval in sorted(glob.glob(os.path.join(base_directory, 'crossval*'))):\n",
    "    if uniform_dg_models:\n",
    "        network_cache = uniform_dg_models[0].networks\n",
    "    else:\n",
    "        network_cache = None\n",
    "    \n",
    "    uniform_dg_model = load_val_deepgaze_model(crossval, centerbias_model=pysaliency.UniformModel(),\n",
    "                                               network_cache=network_cache)\n",
    "    uniform_dg_models.append(uniform_dg_model)\n",
    "    \n",
    "    cb_dg_model = load_val_deepgaze_model(crossval, centerbias_model=baseline,\n",
    "                                          network_cache=uniform_dg_models[-1].networks)\n",
    "    cb_dg_models.append(cb_dg_model)\n",
    "    \n",
    "    \n",
    "    #config = yaml.load(open(os.path.join(crossval, 'config.yaml')))\n",
    "    #dataset, f = get_dataset(config['optimization']['val_dataset'], location='test_datasets')\n",
    "    #for s in dataset:\n",
    "    #    dg_model.log_density(s)\n",
    "    #    clear_output()\n",
    "uniform_dg_model = pysaliency.MixtureModel(uniform_dg_models)\n",
    "cb_dg_model = pysaliency.MixtureModel(cb_dg_models)\n",
    "\n",
    "#data = get_memory_scores('http://figrim.mit.edu/within_category.csv',location + 'FIGRIM/Memory/', 'within_category')\n",
    "#data2 = get_memory_scores('http://figrim.mit.edu/across_category.csv',location + 'FIGRIM/Memory/', 'across_category')"
   ]
  },
  {
   "cell_type": "markdown",
   "metadata": {},
   "source": [
    "# Within Categories"
   ]
  },
  {
   "cell_type": "code",
   "execution_count": null,
   "metadata": {
    "collapsed": false,
    "scrolled": true
   },
   "outputs": [],
   "source": [
    "\n",
    "import glob\n",
    "res_dir = '/gpfs01/bethge/home/oeberle/Scripts/deepgaze/OliverPlayground/Memory_within_Scenes/'\n",
    "HR = []\n",
    "FAR = []\n",
    "ACC = []\n",
    "TS = []\n",
    "for f in sorted(glob.glob(res_dir + \"*.p\")):\n",
    "    res = pickle.load(open(f, 'r'))\n",
    "        \n",
    "    if res['type'] == 'target':\n",
    "        print( res['type'])\n",
    "        HR.append(res['HR'])\n",
    "        FAR.append(res['FAR'])\n",
    "        ACC.append(res['ACC'])\n",
    "        TS.append(res['TS'])\n",
    "        \n",
    "    else:\n",
    "        pass\n",
    "data_within = {'HR':HR, 'FAR': FAR, 'ACC': ACC, 'TS':TS}\n",
    "pickle.dump(data_within,open(location + 'FIGRIM/Memory/'+ 'data_within_{}.p'.format(len(glob.glob(res_dir + \"*.p\"))), 'w')) \n"
   ]
  },
  {
   "cell_type": "code",
   "execution_count": null,
   "metadata": {
    "collapsed": false
   },
   "outputs": [],
   "source": [
    "\n",
    "fig = plt.figure(figsize=(10,5))\n",
    "plt.plot(sorted(HR), marker = 'x')\n",
    "\n",
    "plt.ylabel('Hit rate/ Memorability')\n",
    "plt.title('r = {}'.format(np.corrcoef(HR,TS)[0,1]))\n",
    "plt.show()\n",
    "\n",
    "import numpy\n",
    "print(np.corrcoef(HR,TS))"
   ]
  },
  {
   "cell_type": "code",
   "execution_count": null,
   "metadata": {
    "collapsed": false,
    "scrolled": false
   },
   "outputs": [],
   "source": [
    "# Compute Total Saliency for image\n",
    "typ_ref,_,reference_im = get_image_from_filename('bathroom', 'sun_aanjcbzdvtvblsdy.jpg', location + 'FIGRIM/Stimuli/' )\n",
    "\n",
    "data = pickle.load(open(location + 'FIGRIM/Memory/'+ 'within_category' '.p', 'r'))\n",
    "data_copy = data.copy()\n",
    "for d in data_copy.itervalues():\n",
    "    typ_comp,comp_im_obj,comparison_im = get_image_from_filename(d['scene category'],  d['filename'], location + 'FIGRIM/Stimuli/')\n",
    "\n",
    "    if typ_comp == 'target':\n",
    "        TSG = TotalSaliency(reference_im, comparison_im)\n",
    "        im_glued, log_density, d_left, d_right = TSG.__call__()\n",
    "    # print(d)\n",
    "        print( d['HR'], d['scene category'], d['filename'], np.log(d_right/d_left), )\n",
    "        plt.figure(figsize=(10,5))\n",
    "        if d['HR'] > 0.5:\n",
    "            plt.subplot(1,2,2)\n",
    "            plt.imshow(im_glued)\n",
    "            plt.axis('off')\n",
    "            \n",
    "            plt.subplot(1,2,1)\n",
    "            plt.imshow(log_density)\n",
    "            plt.axis('off')\n",
    "\n",
    "        elif d['HR'] <= 0.5:\n",
    "            plt.subplot(1,2,1)\n",
    "            plt.axis('off')\n",
    "            plt.imshow(im_glued)\n",
    "            \n",
    "            plt.subplot(1,2,2)\n",
    "            plt.axis('off')\n",
    "            plt.imshow(log_density)\n",
    "        plt.show()"
   ]
  },
  {
   "cell_type": "code",
   "execution_count": null,
   "metadata": {
    "collapsed": false
   },
   "outputs": [],
   "source": [
    "fig = plt.figure(figsize=(10,5))\n",
    "plt.scatter(HR, TS, marker = 'x')\n",
    "plt.xlabel('Hit rate/ Memorability')\n",
    "plt.ylabel('Total saliency')\n",
    "plt.title('r = {}'.format(np.corrcoef(HR,TS)[0,1]))\n",
    "fig.savefig('/gpfs01/bethge/home/oeberle/Results/scatter_within_groups.jpg')\n",
    "plt.show()\n",
    "\n"
   ]
  },
  {
   "cell_type": "markdown",
   "metadata": {},
   "source": [
    "# Across Categories"
   ]
  },
  {
   "cell_type": "code",
   "execution_count": null,
   "metadata": {
    "collapsed": false,
    "scrolled": true
   },
   "outputs": [],
   "source": [
    "import glob\n",
    "res_dir = '/gpfs01/bethge/home/oeberle/Scripts/deepgaze/OliverPlayground/Memory_across_Scenes/'\n",
    "HR2 = []\n",
    "FAR2 = []\n",
    "ACC2 = []\n",
    "TS2 = []\n",
    "for f in sorted(glob.glob(res_dir + \"*.p\")):\n",
    "    res = pickle.load(open(f, 'r'))\n",
    "\n",
    "    if res['type'] == 'target':\n",
    "        print( res['type'])\n",
    "        HR2.append(res['HR'])\n",
    "        FAR2.append(res['FAR'])\n",
    "        ACC2.append(res['ACC'])\n",
    "        TS2.append(res['TS'])\n",
    "    else:\n",
    "        pass"
   ]
  },
  {
   "cell_type": "code",
   "execution_count": null,
   "metadata": {
    "collapsed": false
   },
   "outputs": [],
   "source": [
    "fig = plt.figure(figsize=(10,5))\n",
    "plt.scatter(HR2, TS2, marker = 'x')\n",
    "plt.xlabel('Hit rate/ Memorability')\n",
    "plt.ylabel('Total saliency')\n",
    "plt.title('r = {}'.format(np.corrcoef(HR2,TS2)[0,1]))\n",
    "fig.savefig('/gpfs01/bethge/home/oeberle/Results/scatter_across_groups.jpg')\n",
    "\n",
    "plt.show()\n",
    "\n",
    "\n",
    "\n",
    "print(np.corrcoef(HR2,TS2))"
   ]
  },
  {
   "cell_type": "code",
   "execution_count": null,
   "metadata": {
    "collapsed": false
   },
   "outputs": [],
   "source": [
    "len(HR)"
   ]
  },
  {
   "cell_type": "code",
   "execution_count": null,
   "metadata": {
    "collapsed": false
   },
   "outputs": [],
   "source": [
    "len(HR2)"
   ]
  },
  {
   "cell_type": "markdown",
   "metadata": {
    "collapsed": true
   },
   "source": [
    "# Analyse per category "
   ]
  },
  {
   "cell_type": "code",
   "execution_count": null,
   "metadata": {
    "collapsed": true
   },
   "outputs": [],
   "source": [
    "#There are 21 categories\n",
    "categories = ['bridge',\n",
    " 'bathroom',\n",
    " 'badlands',\n",
    " 'mountain',\n",
    " 'airport_terminal',\n",
    " 'living_room',\n",
    " 'golf_course',\n",
    " 'amusement_park',\n",
    " 'lighthouse',\n",
    " 'cockpit',\n",
    " 'skyscraper',\n",
    " 'conference_room',\n",
    " 'playground',\n",
    " 'bedroom',\n",
    " 'house',\n",
    " 'pasture',\n",
    " 'castle',\n",
    " 'dining_room',\n",
    " 'tower',\n",
    " 'highway',\n",
    " 'kitchen']"
   ]
  },
  {
   "cell_type": "code",
   "execution_count": null,
   "metadata": {
    "collapsed": true
   },
   "outputs": [],
   "source": [
    "category_data = {cat:{'type':[], 'FAR':[], 'ACC':[], 'TS':[], 'HR':[]} for cat in categories}\n",
    "\n",
    "import glob\n",
    "res_dir = '/gpfs01/bethge/home/oeberle/Scripts/deepgaze/OliverPlayground/Memory_within_Scenes/'\n",
    "for f in sorted(glob.glob(res_dir + \"*.p\")):\n",
    "    res = pickle.load(open(f, 'r'))\n",
    "\n",
    "    if res['type'] == 'target':\n",
    "        print(res['image number'])\n",
    "        category_data[res['scene category']]['type'].append(res['type'])\n",
    "        category_data[res['scene category']]['HR'].append(res['HR'])\n",
    "        category_data[res['scene category']]['FAR'].append(res['FAR'])\n",
    "        category_data[res['scene category']]['ACC'].append(res['ACC'])\n",
    "        category_data[res['scene category']]['TS'].append(res['TS'])\n",
    "   \n",
    "    else:\n",
    "        pass"
   ]
  },
  {
   "cell_type": "code",
   "execution_count": null,
   "metadata": {
    "collapsed": false,
    "scrolled": true
   },
   "outputs": [],
   "source": [
    "pickle.dump(category_data,open(location + 'FIGRIM/Memory/'+ 'category_data_within.p', 'w'))"
   ]
  },
  {
   "cell_type": "code",
   "execution_count": null,
   "metadata": {
    "collapsed": false,
    "scrolled": false
   },
   "outputs": [],
   "source": [
    "for k,v in category_data.iteritems():\n",
    "    fig = plt.figure(figsize=(10,5))\n",
    "    plt.scatter(v['HR'], v['TS'], marker = 'x')\n",
    "    plt.xlabel('Hit rate/ Memorability')\n",
    "    plt.ylabel('Total saliency')\n",
    "    plt.title('{}, r = {}'.format(k,np.corrcoef(v['HR'], v['TS'])[0,1]))\n",
    "   # fig.savefig('/gpfs01/bethge/home/oeberle/Results/scatter_within_groups.jpg')\n",
    "    plt.show()"
   ]
  },
  {
   "cell_type": "code",
   "execution_count": null,
   "metadata": {
    "collapsed": false
   },
   "outputs": [],
   "source": [
    "location = '/gpfs01/bethge/home/oeberle/Scripts/deepgaze/'\n",
    "\n",
    "def get_memory_scores(csv_url, save_dir, save_name):\n",
    "    import csv\n",
    "    import requests\n",
    "    import cPickle as pickle\n",
    "    import collections\n",
    "    import urllib\n",
    "\n",
    "    try:\n",
    "        data = pickle.load(open(save_dir + save_name + '.p', 'r'))\n",
    "    except IOError:     \n",
    "        testfile = urllib.URLopener()\n",
    "        testfile.retrieve(csv_url, save_dir  + save_name + '.csv')\n",
    "        \n",
    "        \n",
    "        csvfile = open( save_dir  + save_name + '.csv', 'r')\n",
    "        jsonfile = open(save_dir  + save_name + '.json', 'w')\n",
    "\n",
    "\n",
    "        fieldnames = ('image number', 'scene category', 'filename', 'hits', 'misses', 'false_alarms', 'correct_rejections')\n",
    "        reader = csv.DictReader(csvfile, fieldnames)\n",
    "        data = collections.OrderedDict()\n",
    "        for i,row in enumerate(reader):\n",
    "            if i == 0:\n",
    "                pass\n",
    "            else:\n",
    "                score_dict = compute_memorability_scores(row)\n",
    "                row.update(score_dict)\n",
    "                data.update({row['image number']:row})\n",
    "        pickle.dump(data,open(save_dir + save_name + '.p', 'w'))\n",
    "    return data\n",
    "\n",
    "def get_image_from_filename(scene_category, filename, root_dir = location + 'FIGRIM/Stimuli/'):\n",
    "    '''\n",
    "    Use np.asarray(jpgfile) to get rgb data \n",
    "    '''\n",
    "    import Image\n",
    "\n",
    "\n",
    "    img_dir =  root_dir + '/Targets/' + scene_category + '/' + filename\n",
    "    try:\n",
    "        jpgfile = Image.open(img_dir)\n",
    "        typ = 'target'\n",
    "    except IOError:\n",
    "        img_dir =  root_dir + '/Fillers/' + scene_category + '/' + filename\n",
    "        try:\n",
    "            jpgfile = Image.open(img_dir)\n",
    "            typ = 'filler'\n",
    "        except IOError:\n",
    "            typ ='missing'\n",
    "            jpgfile = None\n",
    "            \n",
    "    return typ, jpgfile, np.asarray(jpgfile)\n",
    "\n",
    "class TotalSaliency(object):\n",
    "    def __init__(self, img1, img2):\n",
    "        self.img1 = img1\n",
    "        self.img2 = img2\n",
    "    def __call__(self):    \n",
    "        im_glued, center = glue_images(self.img1, self.img2)\n",
    "        log_density = uniform_dg_model.log_density(stimulus=im_glued)\n",
    "        #print(log_density.shape)\n",
    "        d_left, d_right = self.get_total_saliency(log_density, center)\n",
    "        return log_density, d_left, d_right, im_glued\n",
    "    \n",
    "    def get_total_saliency(self, log_density,center):\n",
    "        density = np.exp(log_density)\n",
    "        d_left = np.sum(density[:,:center])\n",
    "        d_right = np.sum(density[:, center:])\n",
    "        return d_left, d_right\n",
    "\n",
    "\n",
    "\n",
    "data = get_memory_scores('http://figrim.mit.edu/within_category.csv',location + 'FIGRIM/Memory/', 'within_category')\n"
   ]
  },
  {
   "cell_type": "code",
   "execution_count": null,
   "metadata": {
    "collapsed": false,
    "scrolled": false
   },
   "outputs": [],
   "source": [
    "category_data_TS = {cat:{'base_image': {}, 'type':[],  'TS':[], 'HR':[]} for cat in categories}\n",
    "\n",
    "for cat in categories:\n",
    "    print(cat)\n",
    "    for k,d in data.iteritems():\n",
    "        if d['scene category'] == cat:\n",
    "            type2, _, img2 = get_image_from_filename(d['scene category'], d['filename'])\n",
    "            if len(category_data_TS[cat]['base_image'])==0:\n",
    "                category_data_TS[cat]['base_image'] = d\n",
    "                category_data_TS[cat]['base_image'].update({'image': img2})\n",
    "                \n",
    "            typ2, _, img2 = get_image_from_filename(d['scene category'], d['filename'])\n",
    "            if type2 == 'target':\n",
    "                img_base = category_data_TS[cat]['base_image']['image']\n",
    "                TSG = TotalSaliency(img_base, img2)\n",
    "                log_density, d_left, d_right, im_glued = TSG.__call__()\n",
    "                category_data_TS[cat]['base_image']\n",
    "                \n",
    "                category_data_TS[cat]['TS'].append(np.log(d_right/d_left))\n",
    "                category_data_TS[cat]['type'].append(typ2)\n",
    "                category_data_TS[cat]['HR'].append(d['HR'])\n",
    "                \n",
    "                plt.figure(figsize=(10,5))\n",
    "                plt.subplot(1,2,1)\n",
    "                plt.imshow(im_glued)\n",
    "                plt.title('HR: {}, TS: {}'.format(d['HR'], np.log(d_right/d_left)))\n",
    "                plt.axis('off')\n",
    "                plt.subplot(1,2,2)\n",
    "                plt.imshow(log_density)\n",
    "                plt.axis('off')\n",
    "                plt.show()\n",
    "            else: \n",
    "                pass\n",
    "     \n",
    "    pickle.dump(category_data_TS[cat],open(location + 'FIGRIM/Memory/'+ 'category_data_TS_within_{}.p'.format(cat), 'w')) \n",
    "    fig = plt.figure(figsize=(10,5))\n",
    "    plt.scatter( category_data_TS[cat]['HR'],  category_data_TS[cat]['TS'], marker = 'x')\n",
    "    plt.xlabel('Hit rate/ Memorability')\n",
    "    plt.ylabel('Total saliency')\n",
    "    plt.title('{}, r = {}'.format(cat,np.corrcoef(category_data_TS[cat]['HR'],category_data_TS[cat]['TS'])[0,1]))\n",
    "    plt.show()"
   ]
  },
  {
   "cell_type": "code",
   "execution_count": null,
   "metadata": {
    "collapsed": true
   },
   "outputs": [],
   "source": [
    "import pandas\n",
    "data_csv = pandas.read_csv('/gpfs01/bethge/home/oeberle/Scripts/deepgaze/FIGRIM/Memory/within_category.csv')"
   ]
  },
  {
   "cell_type": "code",
   "execution_count": null,
   "metadata": {
    "collapsed": false
   },
   "outputs": [],
   "source": [
    "tmpl = data_csv['scene category']=='mountain'\n",
    "HR = data_csv['hits'][tmpl]/(data_csv['hits'][tmpl] + data_csv['false_alarms'][tmpl])"
   ]
  },
  {
   "cell_type": "code",
   "execution_count": null,
   "metadata": {
    "collapsed": false
   },
   "outputs": [],
   "source": [
    "plt.plot(sorted(HR))"
   ]
  },
  {
   "cell_type": "code",
   "execution_count": null,
   "metadata": {
    "collapsed": false,
    "scrolled": true
   },
   "outputs": [],
   "source": [
    "import Image\n",
    "tmpl = data_csv['scene category']=='cockpit'\n",
    "loc_tar = location + '/FIGRIM/Stimuli/Targets/cockpit/'\n",
    "loc_fill = location + '/FIGRIM/Stimuli/Fillers/cockpit/'\n",
    "root_dir = location + '/FIGRIM/Stimuli/'\n",
    "HR_target =[]\n",
    "HR_filler = []\n",
    "for cat in categories:\n",
    "    tmpl = data_csv['scene category']==cat\n",
    "    loc_tar = location + '/FIGRIM/Stimuli/Targets/' + cat +  '/'\n",
    "    loc_fill = location + '/FIGRIM/Stimuli/Fillers/' + cat +  '/'\n",
    "    for name in data_csv['filename'][tmpl]:\n",
    "\n",
    "        tmp = data_csv['filename']== name\n",
    "        data_curr = data_csv[tmp]    \n",
    "        try:\n",
    "            jpgfile = Image.open(loc_tar + name)\n",
    "            typ = 'target'\n",
    "            plt.figure()\n",
    "            plt.subplot(1,2,1)\n",
    "            plt.imshow(np.asarray(jpgfile))\n",
    "            plt.title(typ)\n",
    "            plt.subplot(1,2,2)\n",
    "            plt.axis('off')\n",
    "            plt.show()\n",
    "            hr = data_curr['hits']/ (data_curr['hits'] +  data_curr['misses'])\n",
    "            HR_target.append(hr.values)\n",
    "        except IOError:\n",
    "            try:\n",
    "                img_dir =  root_dir + '/Fillers/' + cat + '/' + name\n",
    "                jpgfile = Image.open(img_dir)\n",
    "                typ = 'filler'\n",
    "                plt.figure()\n",
    "                plt.subplot(1,2,2)\n",
    "                plt.imshow(np.asarray(jpgfile))\n",
    "                plt.title(typ)\n",
    "                plt.subplot(1,2,1)\n",
    "                plt.axis('off')\n",
    "                plt.show()\n",
    "                hr_2 = data_curr['hits']/(data_curr['hits'] +  data_curr['misses'])\n",
    "                HR_filler.append(hr_2.values)\n",
    "            except IOError:\n",
    "                pass"
   ]
  },
  {
   "cell_type": "code",
   "execution_count": null,
   "metadata": {
    "collapsed": false
   },
   "outputs": [],
   "source": [
    "tmp = data_csv['filename']== 'sun_aafdakhlyemdidhj.jpg'\n",
    "data_csv[tmp]"
   ]
  },
  {
   "cell_type": "code",
   "execution_count": null,
   "metadata": {
    "collapsed": false
   },
   "outputs": [],
   "source": [
    "fig = plt.figure(figsize = (15,5))f \n",
    "plt.subplot(1,2,1)\n",
    "plt.plot(sorted(HR_target), 'x')\n",
    "plt.title('Targets')\n",
    "plt.subplot(1,2,2)\n",
    "plt.title('Fillers')\n",
    "plt.xlabel('Image')\n",
    "ptl.ylabel('Memorability')\n",
    "fig.savefig('/gpfs01/bethge/home/oeberle/Results/scatter_within_groups_tar_vs_fil.jpg')\n"
   ]
  },
  {
   "cell_type": "code",
   "execution_count": null,
   "metadata": {
    "collapsed": false
   },
   "outputs": [],
   "source": [
    "plt.plot(sorted(HR_filler))"
   ]
  },
  {
   "cell_type": "code",
   "execution_count": null,
   "metadata": {
    "collapsed": false
   },
   "outputs": [],
   "source": [
    "sorted(HR_target)"
   ]
  },
  {
   "cell_type": "code",
   "execution_count": null,
   "metadata": {
    "collapsed": true
   },
   "outputs": [],
   "source": [
    "K = pickle.load(open(location + 'FIGRIM/Memory/'+ 'category_data_TS_within_mountain.p', 'r')) \n"
   ]
  },
  {
   "cell_type": "code",
   "execution_count": null,
   "metadata": {
    "collapsed": false
   },
   "outputs": [],
   "source": [
    "sorted(K["
   ]
  },
  {
   "cell_type": "code",
   "execution_count": null,
   "metadata": {
    "collapsed": false
   },
   "outputs": [],
   "source": [
    "def compute_memorability_scores(image_dict):\n",
    "    HR = float(image_dict['hits']) / (float(image_dict['hits'])+ float(image_dict['misses']))\n",
    "    FAR =  float(image_dict['false_alarms']) / (float(image_dict['false_alarms'])+ float(image_dict['correct_rejections']))\n",
    "    ACC = (float(image_dict['hits']) + float(image_dict['correct_rejections']))/ (float(image_dict['hits'])+ float(image_dict['misses']) + float(image_dict['false_alarms'])+ float(image_dict['correct_rejections']))\n",
    "    return {'HR': HR, 'FAR': FAR, 'ACC': ACC}\n",
    "\n",
    "\n",
    "\n",
    "def get_memory_scores(csv_url, save_dir, save_name):\n",
    "    import csv\n",
    "    import requests\n",
    "    import cPickle as pickle\n",
    "    import collections\n",
    "    import urllib\n",
    "\n",
    "    try:\n",
    "        data = pickle.load(open(save_dir + save_name + '.p', 'r'))\n",
    "    except IOError:     \n",
    "        testfile = urllib.URLopener()\n",
    "        testfile.retrieve(csv_url, save_dir  + save_name + '.csv')\n",
    "        \n",
    "        \n",
    "        csvfile = open( save_dir  + save_name + '.csv', 'r')\n",
    "        jsonfile = open(save_dir  + save_name + '.json', 'w')\n",
    "\n",
    "\n",
    "        fieldnames = ('image number', 'scene category', 'filename', 'hits', 'misses', 'false_alarms', 'correct_rejections')\n",
    "        reader = csv.DictReader(csvfile, fieldnames)\n",
    "        data = collections.OrderedDict()\n",
    "        for i,row in enumerate(reader):\n",
    "            if i == 0:\n",
    "                pass\n",
    "            else:\n",
    "                score_dict = compute_memorability_scores(row)\n",
    "                row.update(score_dict)\n",
    "                data.update({row['image number']:row})\n",
    "        pickle.dump(data,open(save_dir + save_name + '.p', 'w'))\n",
    "    return data"
   ]
  },
  {
   "cell_type": "code",
   "execution_count": null,
   "metadata": {
    "collapsed": false
   },
   "outputs": [],
   "source": [
    "data = get_memory_scores('http://figrim.mit.edu/within_category.csv',location + 'FIGRIM/Memory/', 'within_category')\n"
   ]
  },
  {
   "cell_type": "code",
   "execution_count": null,
   "metadata": {
    "collapsed": false
   },
   "outputs": [],
   "source": [
    "data"
   ]
  },
  {
   "cell_type": "code",
   "execution_count": null,
   "metadata": {
    "collapsed": false
   },
   "outputs": [],
   "source": [
    "tmp = data_csv['filename']=='sun_aaajuldidvlcyzhv.jpg'\n",
    "data_csv[tmp]"
   ]
  },
  {
   "cell_type": "code",
   "execution_count": null,
   "metadata": {
    "collapsed": false
   },
   "outputs": [],
   "source": [
    "60/(60+37)"
   ]
  },
  {
   "cell_type": "markdown",
   "metadata": {
    "collapsed": true
   },
   "source": [
    "## Compute memorability vs. entropy"
   ]
  },
  {
   "cell_type": "code",
   "execution_count": null,
   "metadata": {
    "collapsed": false
   },
   "outputs": [],
   "source": [
    "def get_entropy(density_map, decimal = 12):\n",
    "    if np.sum(density_map)-1 < 1.0 * 10**(-decimal):\n",
    "        e =  scipy.stats.entropy(density_map.flatten())\n",
    "        print(e)\n",
    "    else:\n",
    "        print('Error, map does not sum to 1')\n",
    "        e = None\n",
    "    return e"
   ]
  },
  {
   "cell_type": "code",
   "execution_count": null,
   "metadata": {
    "collapsed": false
   },
   "outputs": [],
   "source": [
    "data = get_memory_scores('http://figrim.mit.edu/across_category.csv',location + 'FIGRIM/Memory/', 'acroos_category')\n"
   ]
  },
  {
   "cell_type": "code",
   "execution_count": null,
   "metadata": {
    "collapsed": false,
    "scrolled": true
   },
   "outputs": [],
   "source": [
    "def get_memorability_entropy_dict(data):\n",
    "    data_mem_entropy = {str(i):{'log_dens': None, 'HR':None, 'Entropy':None} for i,_ in enumerate(data)}\n",
    "\n",
    "\n",
    "    for k,d in data.iteritems():\n",
    "        print(d['image number'])\n",
    "        type2, _, img2 = get_image_from_filename(d['scene category'], d['filename'],location + 'FIGRIM/Stimuli/')\n",
    "\n",
    "        if type2 != 'missing':\n",
    "\n",
    "\n",
    "            log_density = uniform_dg_model.log_density(stimulus=img2)\n",
    "            data_mem_entropy[d['image number']]['log_dens'] = log_density\n",
    "            density = np.exp(log_density)\n",
    "            data_mem_entropy[d['image number']]['Entropy'] = get_entropy(density)\n",
    "            data_mem_entropy[d['image number']]['HR'] = d['HR']\n",
    "        else:\n",
    "            pass\n",
    "        if d['image number'] == str(210):\n",
    "            fig, ax = plt.subplots(1)\n",
    "\n",
    "            HR_e = [v['HR'] for k,v in data_mem_entropy.iteritems() if v['HR'] is not None]\n",
    "            E_e = [v['Entropy'] for k,v in data_mem_entropy.iteritems() if v['Entropy'] is not None]\n",
    "\n",
    "            plt.scatter(E_e, HR_e, marker = 'x', c='black')\n",
    "            plt.ylabel('Memorability ')\n",
    "            plt.xlabel('Saliency map entropy')\n",
    "            plt.title('Across categories experiment, r={} \\n'.format(np.corrcoef(E_e, HR_e)[0,1]))\n",
    "\n",
    "            spines_to_remove = ['top', 'right']\n",
    "            for spine in spines_to_remove:\n",
    "                ax.spines[spine].set_visible(False)\n",
    "\n",
    "            plt.show()\n",
    "\n",
    "\n",
    "        if False:\n",
    "\n",
    "            if type2 == 'target':\n",
    "                img_base = category_data_TS[cat]['base_image']['image']\n",
    "                TSG = TotalSaliency(img_base, img2)\n",
    "                log_density, d_left, d_right, im_glued = TSG.__call__()\n",
    "                category_data_TS[cat]['base_image']\n",
    "\n",
    "                category_data_TS[cat]['TS'].append(np.log(d_right/d_left))\n",
    "                category_data_TS[cat]['type'].append(typ2)\n",
    "                category_data_TS[cat]['HR'].append(d['HR'])\n",
    "\n",
    "                plt.figure(figsize=(10,5))\n",
    "                plt.subplot(1,2,1)\n",
    "                plt.imshow(im_glued)\n",
    "                plt.title('HR: {}, TS: {}'.format(d['HR'], np.log(d_right/d_left)))\n",
    "                plt.axis('off')\n",
    "                plt.subplot(1,2,2)\n",
    "                plt.imshow(log_density)\n",
    "                plt.axis('off')\n",
    "                plt.show()\n",
    "            else: \n",
    "                pass\n",
    "    return data_mem_entropy"
   ]
  },
  {
   "cell_type": "code",
   "execution_count": null,
   "metadata": {
    "collapsed": false
   },
   "outputs": [],
   "source": [
    "data_mem_entropy_across = data_mem_entropy\n",
    "fig, ax = plt.subplots(1,2, figsize=(15,5))\n",
    "\n",
    "HR_e = [v['HR'] for k,v in data_mem_entropy_across.iteritems() if v['HR'] is not None]\n",
    "E_e = [v['Entropy'] for k,v in data_mem_entropy_across.iteritems() if v['Entropy'] is not None]\n",
    "\n",
    "ax[0].scatter(E_e, HR_e, marker = 'x', c='black')\n",
    "ax[0].set_ylabel('Memorability ')\n",
    "ax[0].set_xlabel('Saliency map entropy')\n",
    "ax[0].set_title('Across categories experiment, r={} \\n'.format(np.corrcoef(E_e, HR_e)[0,1]))\n",
    "\n",
    "spines_to_remove = ['top', 'right']\n",
    "for spine in spines_to_remove:\n",
    "    ax[0].spines[spine].set_visible(False)\n",
    "    \n",
    "    \n",
    "HR_e = [v['HR'] for k,v in data_mem_entropy_within.iteritems() if v['HR'] is not None]\n",
    "E_e = [v['Entropy'] for k,v in data_mem_entropy_within.iteritems() if v['Entropy'] is not None]\n",
    "\n",
    "ax[1].scatter(E_e, HR_e, marker = 'x', c='black')\n",
    "ax[1].set_ylabel('Memorability ')\n",
    "ax[1].set_xlabel('Saliency map entropy')\n",
    "ax[1].set_title('Within categories experiment, r={} \\n'.format(np.corrcoef(E_e, HR_e)[0,1]))\n",
    "\n",
    "spines_to_remove = ['top', 'right']\n",
    "for spine in spines_to_remove:\n",
    "    ax[0].spines[spine].set_visible(False)\n",
    "    \n",
    "plt.show()    "
   ]
  },
  {
   "cell_type": "code",
   "execution_count": null,
   "metadata": {
    "collapsed": false
   },
   "outputs": [],
   "source": [
    "    \n",
    "data_within = get_memory_scores('http://figrim.mit.edu/within_category.csv',location + 'FIGRIM/Memory/', 'within_category')\n",
    "\n",
    "data_mem_entropy_within = {str(i):{'log_dens': None, 'HR':None, 'Entropy':None} for i,_ in enumerate(data)}\n",
    "\n",
    "\n",
    "for k,d in data_within.iteritems():\n",
    "        print(d['image number'])\n",
    "        type2, _, img2 = get_image_from_filename(d['scene category'], d['filename'],location + 'FIGRIM/Stimuli/')\n",
    "\n",
    "        if type2 != 'missing':\n",
    "\n",
    "\n",
    "            log_density = uniform_dg_model.log_density(stimulus=img2)\n",
    "            data_mem_entropy_within[d['image number']]['log_dens'] = log_density\n",
    "            density = np.exp(log_density)\n",
    "            data_mem_entropy_within[d['image number']]['Entropy'] = get_entropy(density)\n",
    "            data_mem_entropy_within[d['image number']]['HR'] = d['HR']\n",
    "        else:\n",
    "            pass    \n",
    "\n",
    "\n"
   ]
  },
  {
   "cell_type": "code",
   "execution_count": null,
   "metadata": {
    "collapsed": false
   },
   "outputs": [],
   "source": [
    "data_within = get_memory_scores('http://figrim.mit.edu/within_category.csv',location + 'FIGRIM/Memory/', 'within_category')\n"
   ]
  },
  {
   "cell_type": "code",
   "execution_count": null,
   "metadata": {
    "collapsed": false,
    "scrolled": true
   },
   "outputs": [],
   "source": [
    "data_mem_entropy_within = get_memorability_entropy_dict(data_within)"
   ]
  },
  {
   "cell_type": "code",
   "execution_count": null,
   "metadata": {
    "collapsed": false
   },
   "outputs": [],
   "source": [
    "fig, ax = plt.subplots(1)\n",
    "\n",
    "HR_e = [v['HR'] for k,v in data_mem_entropy_within.iteritems() if v['HR'] is not None]\n",
    "E_e = [v['Entropy'] for k,v in data_mem_entropy_within.iteritems() if v['Entropy'] is not None]\n",
    "\n",
    "plt.scatter(E_e, HR_e, marker = 'x', c='black')\n",
    "plt.ylabel('Memorability ')\n",
    "plt.xlabel('Saliency map entropy')\n",
    "plt.title('Across categories experiment, r={} \\n'.format(np.corrcoef(E_e, HR_e)[0,1]))\n",
    "\n",
    "spines_to_remove = ['top', 'right']\n",
    "for spine in spines_to_remove:\n",
    "    ax.spines[spine].set_visible(False)\n",
    "\n",
    "plt.show()"
   ]
  },
  {
   "cell_type": "code",
   "execution_count": null,
   "metadata": {
    "collapsed": false
   },
   "outputs": [],
   "source": [
    "data_mem_entropy_within"
   ]
  },
  {
   "cell_type": "code",
   "execution_count": null,
   "metadata": {
    "collapsed": false
   },
   "outputs": [],
   "source": [
    "plt.imshow(np.asarray(img2))\n",
    "plt.matshow(density)"
   ]
  },
  {
   "cell_type": "code",
   "execution_count": null,
   "metadata": {
    "collapsed": false
   },
   "outputs": [],
   "source": [
    "get_entropy(density)"
   ]
  },
  {
   "cell_type": "code",
   "execution_count": null,
   "metadata": {
    "collapsed": false
   },
   "outputs": [],
   "source": [
    "-np.sum([de*np.log(de) for de in density.flatten()])"
   ]
  },
  {
   "cell_type": "code",
   "execution_count": null,
   "metadata": {
    "collapsed": true
   },
   "outputs": [],
   "source": [
    "data_mem_entropy_within = {str(i):{'log_dens': None, 'HR':None, 'Entropy':None} for i,_ in enumerate(data)}\n",
    "\n",
    "\n",
    "    for k,d in data.iteritems():\n",
    "        print(d['image number'])\n",
    "        type2, _, img2 = get_image_from_filename(d['scene category'], d['filename'],location + 'FIGRIM/Stimuli/')\n",
    "\n",
    "        if type2 != 'missing':\n",
    "\n",
    "\n",
    "            log_density = uniform_dg_model.log_density(stimulus=img2)\n",
    "            data_mem_entropy[d['image number']]['log_dens'] = log_density\n",
    "            density = np.exp(log_density)\n",
    "            data_mem_entropy[d['image number']]['Entropy'] = get_entropy(density)\n",
    "            data_mem_entropy[d['image number']]['HR'] = d['HR']\n",
    "        else:\n",
    "            pass"
   ]
  },
  {
   "cell_type": "markdown",
   "metadata": {},
   "source": [
    "# Get most/least memorable"
   ]
  },
  {
   "cell_type": "code",
   "execution_count": 8,
   "metadata": {
    "collapsed": false
   },
   "outputs": [],
   "source": [
    "import pandas\n",
    "data_csv = pandas.read_csv('/gpfs01/bethge/home/oeberle/Scripts/deepgaze/FIGRIM/Memory/across_category.csv')"
   ]
  },
  {
   "cell_type": "code",
   "execution_count": 9,
   "metadata": {
    "collapsed": false
   },
   "outputs": [],
   "source": [
    "hr = data_csv['hits']/(data_csv['hits'] + data_csv['misses'])\n",
    "n = 100\n",
    "idx_most = np.argsort(hr)[-n:]\n",
    "#idx_most = idx_most[:5].append(idx_most[6:])\n",
    "idx_least = np.argsort(hr)[:n]\n",
    "idx_all = np.argsort(hr)"
   ]
  },
  {
   "cell_type": "code",
   "execution_count": 10,
   "metadata": {
    "collapsed": false
   },
   "outputs": [
    {
     "data": {
      "text/plain": [
       "0        875\n",
       "1        513\n",
       "2       1632\n",
       "3       1569\n",
       "4       1625\n",
       "5        537\n",
       "6       1438\n",
       "7       1443\n",
       "8        232\n",
       "9       1197\n",
       "10      1722\n",
       "11      1720\n",
       "12       549\n",
       "13      1435\n",
       "14      1330\n",
       "15      1399\n",
       "16       364\n",
       "17       987\n",
       "18       208\n",
       "19       855\n",
       "20       110\n",
       "21      1533\n",
       "22       402\n",
       "23       359\n",
       "24      1314\n",
       "25      1697\n",
       "26      1601\n",
       "27       976\n",
       "28       679\n",
       "29      1732\n",
       "        ... \n",
       "1724     706\n",
       "1725    1012\n",
       "1726     226\n",
       "1727     648\n",
       "1728    1266\n",
       "1729    1495\n",
       "1730    1010\n",
       "1731     512\n",
       "1732     740\n",
       "1733      34\n",
       "1734    1138\n",
       "1735     753\n",
       "1736     423\n",
       "1737    1089\n",
       "1738     195\n",
       "1739    1168\n",
       "1740    1696\n",
       "1741     347\n",
       "1742    1389\n",
       "1743     172\n",
       "1744     109\n",
       "1745    1204\n",
       "1746     700\n",
       "1747    1579\n",
       "1748    1007\n",
       "1749    1042\n",
       "1750    1746\n",
       "1751    1523\n",
       "1752    1100\n",
       "1753     447\n",
       "dtype: int64"
      ]
     },
     "execution_count": 10,
     "metadata": {},
     "output_type": "execute_result"
    }
   ],
   "source": [
    "idx_all"
   ]
  },
  {
   "cell_type": "code",
   "execution_count": null,
   "metadata": {
    "collapsed": false
   },
   "outputs": [],
   "source": [
    "#1389\n",
    "idx_most"
   ]
  },
  {
   "cell_type": "code",
   "execution_count": 11,
   "metadata": {
    "collapsed": true
   },
   "outputs": [],
   "source": [
    "def normalize_log_density(log_density):\n",
    "    \"\"\" convertes a log density into a map of the cummulative distribution function.\n",
    "    \"\"\"\n",
    "    density = np.exp(log_density)\n",
    "    flat_density = density.flatten()\n",
    "    inds = flat_density.argsort()[::-1]\n",
    "    sorted_density = flat_density[inds]\n",
    "    cummulative = np.cumsum(sorted_density)\n",
    "    unsorted_cummulative = cummulative[np.argsort(inds)]\n",
    "    return unsorted_cummulative.reshape(log_density.shape)\n",
    "\n",
    "\n",
    "def compute_cross_entropy(log_density, fixations, kernel_size=35):\n",
    "    F = np.zeros_like(log_density)\n",
    "\n",
    "    for i,j in zip(list(np.round(fixations.x)), list(np.round(fixations.y))):\n",
    "        F[int(i),int(j)] += 1.\n",
    "    saliency_map = gaussian_filter(F, kernel_size)\n",
    "\n",
    "    saliency_map = saliency_map/np.sum(saliency_map)\n",
    "    \n",
    "    q = log_density.flatten()\n",
    "    p = saliency_map.flatten()\n",
    "\n",
    "    return np.dot(p,q)\n",
    "\n",
    "\n",
    "def plot_memorable(data_csv, idx, axs):\n",
    "    res_dict = {}\n",
    "    hr =  data_csv['hits']/(data_csv['hits'] + data_csv['misses'])\n",
    "    mit1003_stimuli, mit1003_fixations = pysaliency.get_FIGRIM(location='/gpfs01/bethge/home/oeberle/Scripts/deepgaze/')\n",
    "    names = [a.split('/')[-1] for a in mit1003_stimuli.filenames]\n",
    "    \n",
    "    n_col = 4    \n",
    "    c = -1\n",
    "    k = 0\n",
    "    for i,_id in enumerate(idx):\n",
    "        d = data_csv.iloc[_id,:]\n",
    "        typ,_,im = get_image_from_filename(d['scene category'],d['filename'], location + 'FIGRIM/Stimuli/' )\n",
    "       # print(len(im.shape))\n",
    "        if len(im.shape)==3:\n",
    "            log_density = uniform_dg_model.log_density(stimulus=im)\n",
    "            #print(typ)\n",
    "\n",
    "            if i%4 == 0:\n",
    "                c = c + 1\n",
    "                k = 0 \n",
    "            #print(c,k)\n",
    "\n",
    "            if typ != 'missing':\n",
    "                print(i)\n",
    "                ii = names.index(d['filename'],)\n",
    "                fi = mit1003_fixations[mit1003_fixations.n==ii]\n",
    "                ce = compute_cross_entropy(log_density,fi)\n",
    "\n",
    "                if True:\n",
    "                    axs[ c,k].imshow(mit1003_stimuli.stimuli[ii], alpha=0.5)\n",
    "                    axs[ c,k+1].set_title('H = {0:2f}'.format(ce), size=16, y=0.995)\n",
    "\n",
    "                    axs[ c,k].scatter(fi.x, fi.y, 4, c = 'r')\n",
    "                    axs[ c,k].axes.get_yaxis().set_visible(False)\n",
    "                    axs[ c,k].axes.get_xaxis().set_visible(False)\n",
    "                    axs[ c,k].set_axis_off()\n",
    "\n",
    "                    axs[ c,k+1].matshow(normalize_log_density(log_density))\n",
    "                    axs[ c,k+1].set_title('{0:2f}'.format(hr[_id]), size=16, y=0.995)\n",
    "                    axs[ c,k+1].set_frame_on(False)\n",
    "                    axs[ c,k+1].axes.get_yaxis().set_visible(False)\n",
    "                    axs[ c,k+1].axes.get_xaxis().set_visible(False)\n",
    "                    axs[ c,k+1].set_axis_off()\n",
    "\n",
    "                res_dict.update({d['filename']: {'cross_entropy': compute_cross_entropy(log_density, fi),\n",
    "                                                      'HR':hr[_id],\n",
    "                                                       'log_denisty': log_density,\n",
    "                                                        'fixations': fi}\n",
    "                                     })\n",
    "            else:\n",
    "                print(_id)\n",
    "                pass\n",
    "\n",
    "            k = k + 2\n",
    "            #break\n",
    "            \n",
    "            \n",
    "            \n",
    "    return axs, res_dict"
   ]
  },
  {
   "cell_type": "code",
   "execution_count": 21,
   "metadata": {
    "collapsed": false
   },
   "outputs": [
    {
     "name": "stdout",
     "output_type": "stream",
     "text": [
      "0\n",
      "<pysaliency.datasets.Fixations object at 0x7f0fcf773310>\n"
     ]
    },
    {
     "ename": "AttributeError",
     "evalue": "'Fixations' object has no attribute 'flatten'",
     "output_type": "error",
     "traceback": [
      "\u001b[0;31m\u001b[0m",
      "\u001b[0;31mAttributeError\u001b[0mTraceback (most recent call last)",
      "\u001b[0;32m<ipython-input-21-cca6aa77b7d3>\u001b[0m in \u001b[0;36m<module>\u001b[0;34m()\u001b[0m\n\u001b[1;32m      6\u001b[0m \u001b[0mf\u001b[0m\u001b[0;34m,\u001b[0m \u001b[0maxs\u001b[0m \u001b[0;34m=\u001b[0m \u001b[0mplt\u001b[0m\u001b[0;34m.\u001b[0m\u001b[0msubplots\u001b[0m\u001b[0;34m(\u001b[0m\u001b[0;36m4\u001b[0m\u001b[0;34m,\u001b[0m \u001b[0;36m8\u001b[0m  \u001b[0;34m,\u001b[0m \u001b[0mfigsize\u001b[0m\u001b[0;34m=\u001b[0m\u001b[0;34m(\u001b[0m\u001b[0;36m6\u001b[0m\u001b[0;34m*\u001b[0m\u001b[0;36m4\u001b[0m\u001b[0;34m,\u001b[0m \u001b[0;36m6\u001b[0m\u001b[0;34m*\u001b[0m\u001b[0;36m2\u001b[0m\u001b[0;34m)\u001b[0m\u001b[0;34m)\u001b[0m\u001b[0;34m\u001b[0m\u001b[0m\n\u001b[1;32m      7\u001b[0m \u001b[0;34m\u001b[0m\u001b[0m\n\u001b[0;32m----> 8\u001b[0;31m \u001b[0maxs\u001b[0m \u001b[0;34m=\u001b[0m \u001b[0mplot_memorable\u001b[0m\u001b[0;34m(\u001b[0m\u001b[0mdata_csv\u001b[0m\u001b[0;34m,\u001b[0m\u001b[0midx_least\u001b[0m\u001b[0;34m[\u001b[0m\u001b[0;34m:\u001b[0m\u001b[0;34m:\u001b[0m\u001b[0;34m-\u001b[0m\u001b[0;36m1\u001b[0m\u001b[0;34m]\u001b[0m\u001b[0;34m,\u001b[0m\u001b[0maxs\u001b[0m\u001b[0;34m)\u001b[0m\u001b[0;34m\u001b[0m\u001b[0m\n\u001b[0m\u001b[1;32m      9\u001b[0m \u001b[0;31m#f.subplots_adjust(hspace=0.6)\u001b[0m\u001b[0;34m\u001b[0m\u001b[0;34m\u001b[0m\u001b[0m\n\u001b[1;32m     10\u001b[0m \u001b[0;34m\u001b[0m\u001b[0m\n",
      "\u001b[0;32m<ipython-input-11-b336d7d6cec8>\u001b[0m in \u001b[0;36mplot_memorable\u001b[0;34m(data_csv, idx, axs)\u001b[0m\n\u001b[1;32m     52\u001b[0m                 \u001b[0mii\u001b[0m \u001b[0;34m=\u001b[0m \u001b[0mnames\u001b[0m\u001b[0;34m.\u001b[0m\u001b[0mindex\u001b[0m\u001b[0;34m(\u001b[0m\u001b[0md\u001b[0m\u001b[0;34m[\u001b[0m\u001b[0;34m'filename'\u001b[0m\u001b[0;34m]\u001b[0m\u001b[0;34m,\u001b[0m\u001b[0;34m)\u001b[0m\u001b[0;34m\u001b[0m\u001b[0m\n\u001b[1;32m     53\u001b[0m                 \u001b[0mfi\u001b[0m \u001b[0;34m=\u001b[0m \u001b[0mmit1003_fixations\u001b[0m\u001b[0;34m[\u001b[0m\u001b[0mmit1003_fixations\u001b[0m\u001b[0;34m.\u001b[0m\u001b[0mn\u001b[0m\u001b[0;34m==\u001b[0m\u001b[0mii\u001b[0m\u001b[0;34m]\u001b[0m\u001b[0;34m\u001b[0m\u001b[0m\n\u001b[0;32m---> 54\u001b[0;31m                 \u001b[0mce\u001b[0m \u001b[0;34m=\u001b[0m \u001b[0mcompute_cross_entropy\u001b[0m\u001b[0;34m(\u001b[0m\u001b[0mlog_density\u001b[0m\u001b[0;34m,\u001b[0m\u001b[0mfi\u001b[0m\u001b[0;34m)\u001b[0m\u001b[0;34m\u001b[0m\u001b[0m\n\u001b[0m\u001b[1;32m     55\u001b[0m \u001b[0;34m\u001b[0m\u001b[0m\n\u001b[1;32m     56\u001b[0m                 \u001b[0;32mif\u001b[0m \u001b[0mTrue\u001b[0m\u001b[0;34m:\u001b[0m\u001b[0;34m\u001b[0m\u001b[0m\n",
      "\u001b[0;32m<ipython-input-20-d6fb680f8373>\u001b[0m in \u001b[0;36mcompute_cross_entropy\u001b[0;34m(log_density, fixations)\u001b[0m\n\u001b[1;32m      9\u001b[0m \u001b[0;34m\u001b[0m\u001b[0m\n\u001b[1;32m     10\u001b[0m     \u001b[0mq\u001b[0m \u001b[0;34m=\u001b[0m \u001b[0mlog_density\u001b[0m\u001b[0;34m.\u001b[0m\u001b[0mflatten\u001b[0m\u001b[0;34m(\u001b[0m\u001b[0;34m)\u001b[0m\u001b[0;34m\u001b[0m\u001b[0m\n\u001b[0;32m---> 11\u001b[0;31m     \u001b[0mp\u001b[0m \u001b[0;34m=\u001b[0m \u001b[0mfixations\u001b[0m\u001b[0;34m.\u001b[0m\u001b[0mflatten\u001b[0m\u001b[0;34m(\u001b[0m\u001b[0;34m)\u001b[0m\u001b[0;34m\u001b[0m\u001b[0m\n\u001b[0m\u001b[1;32m     12\u001b[0m     \u001b[0;32mreturn\u001b[0m \u001b[0;34m-\u001b[0m\u001b[0mnp\u001b[0m\u001b[0;34m.\u001b[0m\u001b[0mdot\u001b[0m\u001b[0;34m(\u001b[0m\u001b[0mq\u001b[0m\u001b[0;34m,\u001b[0m\u001b[0mlog_density\u001b[0m\u001b[0;34m)\u001b[0m\u001b[0;34m\u001b[0m\u001b[0m\n",
      "\u001b[0;31mAttributeError\u001b[0m: 'Fixations' object has no attribute 'flatten'"
     ]
    },
    {
     "data": {
      "image/png": "[encoded data removed]",
      "text/plain": [
       "<matplotlib.figure.Figure at 0x7f0fa5c301d0>"
      ]
     },
     "metadata": {},
     "output_type": "display_data"
    }
   ],
   "source": [
    "import matplotlib.pyplot as plt\n",
    "%matplotlib inline\n",
    "# plot filters\n",
    "\n",
    "\n",
    "f, axs = plt.subplots(4, 8  , figsize=(6*4, 6*2))\n",
    "\n",
    "axs = plot_memorable(data_csv,idx_least[::-1],axs)\n",
    "#f.subplots_adjust(hspace=0.6)\n",
    "\n",
    "#f.savefig('/gpfs01/bethge/home/oeberle/Results/DGII_across_16_least_mem_fig_norm.jpg')\n",
    "\n",
    "\n",
    "f, axs = plt.subplots(4, 8  , figsize=(6*4, 6*2))\n",
    "\n",
    "axs = plot_memorable(data_csv,idx_most[::-1],axs)\n",
    "#f.subplots_adjust(hspace=0.6)\n",
    "#f.savefig('/gpfs01/bethge/home/oeberle/Results/DGII_across_16_most_mem_fig_norm.jpg')"
   ]
  },
  {
   "cell_type": "code",
   "execution_count": null,
   "metadata": {
    "collapsed": false
   },
   "outputs": [],
   "source": [
    "# Compute Cross entropy\n",
    "f, axs = plt.subplots(4, 8  , figsize=(6*4, 6*2))\n",
    "\n",
    "_, cross_ent_most = plot_memorable(data_csv,idx_most[::-1],axs)\n"
   ]
  },
  {
   "cell_type": "code",
   "execution_count": null,
   "metadata": {
    "collapsed": false,
    "scrolled": false
   },
   "outputs": [],
   "source": [
    "# Compute Cross entropy\n",
    "f, axs = plt.subplots(4, 8  , figsize=(6*4, 6*2))\n",
    "\n",
    "_, cross_ent_least = plot_memorable(data_csv,idx_least[::-1],axs)"
   ]
  },
  {
   "cell_type": "code",
   "execution_count": null,
   "metadata": {
    "collapsed": false
   },
   "outputs": [],
   "source": [
    "# Compute Cross entropy\n",
    "f, axs = plt.subplots(4, 8  , figsize=(6*4, 6*2))\n",
    "\n",
    "_, cross_ent_all = plot_memorable(data_csv,idx_all,axs)"
   ]
  },
  {
   "cell_type": "code",
   "execution_count": null,
   "metadata": {
    "collapsed": false,
    "scrolled": true
   },
   "outputs": [],
   "source": [
    "\n",
    "hr_most = [d['HR'] for k,d in cross_ent_most.iteritems()]\n",
    "ce_most = [d['cross_entropy'] for k,d in cross_ent_most.iteritems()]\n",
    "\n",
    "hr_least = [d['HR'] for k,d in cross_ent_least.iteritems()]\n",
    "ce_lest = [d['cross_entropy'] for k,d in cross_ent_least.iteritems()]\n",
    "\n",
    "plt.scatter(hr_most + hr_least, ce_most + ce_lest)\n",
    "plt.show()"
   ]
  },
  {
   "cell_type": "code",
   "execution_count": null,
   "metadata": {
    "collapsed": true
   },
   "outputs": [],
   "source": [
    "mit1003_stimuli, mit1003_fixations = pysaliency.get_FIGRIM(location='/gpfs01/bethge/home/oeberle/Scripts/deepgaze/')\n"
   ]
  },
  {
   "cell_type": "code",
   "execution_count": null,
   "metadata": {
    "collapsed": false
   },
   "outputs": [],
   "source": [
    "mit1003_fixations[mit1003_fixations.n==2].x.shape"
   ]
  },
  {
   "cell_type": "code",
   "execution_count": null,
   "metadata": {
    "collapsed": false
   },
   "outputs": [],
   "source": [
    "F = np.zeros((1000,1000))\n",
    "\n",
    "for i,j in zip(list(np.round(mit1003_fixations[mit1003_fixations.n==2].x)), list(np.round(mit1003_fixations[mit1003_fixations.n==2].y))):\n",
    "    F[int(i),int(j)] += 1.\n",
    "F = F/np.sum(F)"
   ]
  },
  {
   "cell_type": "code",
   "execution_count": null,
   "metadata": {
    "collapsed": false
   },
   "outputs": [],
   "source": [
    "print('')"
   ]
  },
  {
   "cell_type": "code",
   "execution_count": 20,
   "metadata": {
    "collapsed": true
   },
   "outputs": [],
   "source": [
    "\n",
    "def compute_cross_entropy(log_density, fixations):\n",
    "    F = np.zeros_like(log_density)\n",
    "    for i,j in zip(list(np.round(fixations.x)), list(np.round(fixations.y))):\n",
    "        F[int(i),int(j)] += 1.\n",
    "    F = F/np.sum(F)\n",
    "    \n",
    "    print(fixations)\n",
    "    \n",
    "    q = log_density.flatten()\n",
    "    p = fixations.flatten()\n",
    "    return -np.dot(q,log_density)"
   ]
  },
  {
   "cell_type": "code",
   "execution_count": 16,
   "metadata": {
    "collapsed": true
   },
   "outputs": [],
   "source": [
    "import pysaliency\n",
    "from scipy.ndimage import gaussian_filter, zoom\n",
    "def saliency_map(stimulus, fixations, kernel_size):\n",
    "    stimulus = stimulus\n",
    "    stimulus_id = stimulus.stimulus_id\n",
    "    print(stimulus)\n",
    "\n",
    "    saliency_map = np.zeros(stimulus.size)\n",
    "    print(fixations.y.astype(int), fixations.x.astype(int))\n",
    "    saliency_map[fixations.y.astype(int), fixations.x.astype(int)] = 1.0\n",
    "\n",
    "    if kernel_size:\n",
    "        saliency_map = gaussian_filter(saliency_map, kernel_size)\n",
    "    return saliency_map"
   ]
  },
  {
   "cell_type": "code",
   "execution_count": null,
   "metadata": {
    "collapsed": false
   },
   "outputs": [],
   "source": [
    "n = 18\n",
    "a = saliency_map(mit1003_stimuli[n], mit1003_fixations[mit1003_fixations.n==n], kernel_size = 35 )\n",
    "b = a/np.sum(a)\n",
    "plt.imshow(b)\n",
    "plt.colorbar()\n",
    "plt.show()\n",
    "plt.imshow(mit1003_stimuli.stimuli[n])"
   ]
  },
  {
   "cell_type": "code",
   "execution_count": null,
   "metadata": {
    "collapsed": false
   },
   "outputs": [],
   "source": [
    "np.sum(b)"
   ]
  },
  {
   "cell_type": "code",
   "execution_count": null,
   "metadata": {
    "collapsed": false
   },
   "outputs": [],
   "source": [
    "a"
   ]
  },
  {
   "cell_type": "code",
   "execution_count": null,
   "metadata": {
    "collapsed": false
   },
   "outputs": [],
   "source": [
    "mit1003_stimuli.stimuli[10]"
   ]
  },
  {
   "cell_type": "code",
   "execution_count": null,
   "metadata": {
    "collapsed": true
   },
   "outputs": [],
   "source": []
  }
 ],
 "metadata": {
  "kernelspec": {
   "display_name": "Python 2",
   "language": "python",
   "name": "python2"
  },
  "language_info": {
   "codemirror_mode": {
    "name": "ipython",
    "version": 2
   },
   "file_extension": ".py",
   "mimetype": "text/x-python",
   "name": "python",
   "nbconvert_exporter": "python",
   "pygments_lexer": "ipython2",
   "version": "2.7.6"
  }
 },
 "nbformat": 4,
 "nbformat_minor": 1
}
