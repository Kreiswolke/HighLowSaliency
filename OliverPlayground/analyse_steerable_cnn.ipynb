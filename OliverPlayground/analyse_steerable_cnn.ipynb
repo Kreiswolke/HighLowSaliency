{
 "cells": [
  {
   "cell_type": "code",
   "execution_count": 1,
   "metadata": {
    "collapsed": false
   },
   "outputs": [
    {
     "name": "stderr",
     "output_type": "stream",
     "text": [
      "/usr/local/lib/python2.7/dist-packages/matplotlib/cbook.py:128: MatplotlibDeprecationWarning: The finance module has been deprecated in mpl 2.0 and will be removed in mpl 2.2. Please use the matplotlib toolkit finance instead.\n",
      "  warnings.warn(message, mplDeprecation, stacklevel=1)\n"
     ]
    }
   ],
   "source": [
    "import cPickle as pickle\n",
    "import numpy as np\n",
    "import matplotlib.pyplot as plt\n",
    "%matplotlib inline"
   ]
  },
  {
   "cell_type": "code",
   "execution_count": 2,
   "metadata": {
    "collapsed": false
   },
   "outputs": [],
   "source": [
    "def get_steerable_filters(filter_size, n_filters, n_bands, path = '/gpfs01/bethge/home/oeberle/Results/Steerable_filters/'):\n",
    "    try:\n",
    "        filters = pickle.load(open(path + 'filters_{}_{}_{}.p'.format(filter_size, n_filters, n_bands), 'r'))\n",
    "\n",
    "    except IOError:\n",
    "        filters = get_optimized_filters(filter_size, n_bands)\n",
    "        pickle.dump(filters, open(path + 'filters_{}_{}_{}.p'.format(filter_size, n_filters, n_bands), 'w'))\n",
    "    return filters \n",
    "\n",
    "\n",
    "def plot_level(val_dict, axs, row):\n",
    "    axs[row,0].matshow(val_dict['highpass_real'])\n",
    "    axs[row+1,0].matshow(val_dict['highpass_imag'])\n",
    "    axs[row,0].set_axis_off()\n",
    "    axs[row+1,0].set_axis_off()\n",
    "    axs[row,0].set_title('Highpass')\n",
    "\n",
    "    axs[row,1].matshow(val_dict['lowpass_real'])\n",
    "    axs[row+1,1].matshow(val_dict['lowpass_imag'])\n",
    "    axs[row,1].set_axis_off()\n",
    "    axs[row+1,1].set_axis_off()\n",
    "    axs[row,1].set_title('Lowpass')\n",
    "\n",
    "    n_bands = len(val_dict['orientation_real'])\n",
    "    for k,v in val_dict['orientation_real'].iteritems():\n",
    "        axs[row,k+2].matshow(v)\n",
    "        axs[row,k+2].set_axis_off()\n",
    "        axs[row,k+2].set_title('Orientation {}'.format(k))\n",
    "\n",
    "    n_bands = len(val_dict['orientation_imag'])\n",
    "    for k,v in val_dict['orientation_imag'].iteritems():\n",
    "        axs[row+1,k+2].matshow(v)\n",
    "        axs[row+1,k+2].set_axis_off()\n",
    "    return axs\n"
   ]
  },
  {
   "cell_type": "code",
   "execution_count": 3,
   "metadata": {
    "collapsed": false
   },
   "outputs": [
    {
     "data": {
      "image/png": "[encoded data removed]",
      "text/plain": [
       "<matplotlib.figure.Figure at 0x7fbe6cebd450>"
      ]
     },
     "metadata": {},
     "output_type": "display_data"
    }
   ],
   "source": [
    "filter_size, n_filters, n_bands =  15, 1, 4\n",
    "filters_test = get_steerable_filters(filter_size, n_filters, n_bands)\n",
    "\n",
    "# plot filters\n",
    "n_levels = len(filters_test)\n",
    "n_bands = len(filters_test[0]['orientation_real'])\n",
    "\n",
    "f, axs = plt.subplots(2*n_levels, n_bands + 2 , figsize=(n_levels*10, n_bands*0.8))\n",
    "for k,v in filters_test.iteritems():\n",
    "    axs = plot_level(v,axs,k)\n",
    "    \n",
    "plt.subplots_adjust(wspace=0.03,hspace=0.03)\n",
    "axs[0,0].text(-2,6.5, r'real', fontsize=12,  rotation = 90, horizontalalignment='center')\n",
    "axs[0,0].text(-2,20, r'imaginary', fontsize=12,  rotation = 90, horizontalalignment='center')\n",
    "plt.show()\n",
    "        \n"
   ]
  },
  {
   "cell_type": "code",
   "execution_count": null,
   "metadata": {
    "collapsed": true
   },
   "outputs": [],
   "source": []
  },
  {
   "cell_type": "code",
   "execution_count": null,
   "metadata": {
    "collapsed": true
   },
   "outputs": [],
   "source": []
  }
 ],
 "metadata": {
  "kernelspec": {
   "display_name": "Python 2",
   "language": "python",
   "name": "python2"
  },
  "language_info": {
   "codemirror_mode": {
    "name": "ipython",
    "version": 2
   },
   "file_extension": ".py",
   "mimetype": "text/x-python",
   "name": "python",
   "nbconvert_exporter": "python",
   "pygments_lexer": "ipython2",
   "version": "2.7.6"
  }
 },
 "nbformat": 4,
 "nbformat_minor": 1
}
